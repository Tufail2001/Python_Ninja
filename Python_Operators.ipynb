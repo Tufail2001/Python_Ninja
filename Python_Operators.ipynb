{
  "cells": [
    {
      "cell_type": "code",
      "execution_count": null,
      "id": "f77da025-0508-4ca8-9d18-7d5ad671547c",
      "metadata": {
        "id": "f77da025-0508-4ca8-9d18-7d5ad671547c",
        "outputId": "07bc924c-2031-4f9f-8729-8901b29ad55c",
        "colab": {
          "base_uri": "https://localhost:8080/"
        }
      },
      "outputs": [
        {
          "output_type": "stream",
          "name": "stdout",
          "text": [
            "2.5\n",
            "2\n",
            "1\n",
            "25\n"
          ]
        }
      ],
      "source": [
        "# Arthimetic Operator\n",
        "\n",
        "print(5/2) # floor division\n",
        "print(11//5) # integer division convert answer into int , ignore after (.) parts\n",
        "print(5%2) # modulus Division, return remainer\n",
        "print(5**2) # power of"
      ]
    },
    {
      "cell_type": "code",
      "execution_count": null,
      "id": "e0655cb8-37a2-47da-a38b-f19a58a2a91a",
      "metadata": {
        "id": "e0655cb8-37a2-47da-a38b-f19a58a2a91a",
        "outputId": "011e75da-c0f5-4d89-e927-5e0e78aae27b",
        "colab": {
          "base_uri": "https://localhost:8080/"
        }
      },
      "outputs": [
        {
          "output_type": "stream",
          "name": "stdout",
          "text": [
            "False\n",
            "True\n",
            "True\n",
            "True\n",
            "True\n",
            "False\n"
          ]
        }
      ],
      "source": [
        "# Relational Operator\n",
        "print(4>5)\n",
        "print(4<5)\n",
        "print(4>=4)\n",
        "print(4<=4)\n",
        "print(4==4)\n",
        "print(4!=4)"
      ]
    },
    {
      "cell_type": "code",
      "execution_count": null,
      "id": "35a8bd7b-73fb-40f2-8d64-634eabbc1b9e",
      "metadata": {
        "id": "35a8bd7b-73fb-40f2-8d64-634eabbc1b9e",
        "colab": {
          "base_uri": "https://localhost:8080/"
        },
        "outputId": "1966073d-3e31-4b7d-ad8b-1c0d4d1c6e80"
      },
      "outputs": [
        {
          "output_type": "stream",
          "name": "stdout",
          "text": [
            "0\n",
            "1\n",
            "False\n"
          ]
        }
      ],
      "source": [
        "# Logical Operators\n",
        "# AND OR NOT\n",
        "print(1 and 0) # gives 0\n",
        "print(1 or 0) # gives 1\n",
        "print(not 1) # output 0 (false)"
      ]
    },
    {
      "cell_type": "code",
      "execution_count": null,
      "id": "378c08cf-ddf5-4d88-9354-55e6de085d1f",
      "metadata": {
        "id": "378c08cf-ddf5-4d88-9354-55e6de085d1f",
        "colab": {
          "base_uri": "https://localhost:8080/"
        },
        "outputId": "4fe41116-2661-439a-a5c4-b67ac62bcf20"
      },
      "outputs": [
        {
          "output_type": "stream",
          "name": "stdout",
          "text": [
            "2\n",
            "3\n",
            "1\n",
            "-4\n",
            "1\n",
            "20\n"
          ]
        }
      ],
      "source": [
        "# Bitwise Operators ( works on binary system )\n",
        "print(2 & 3) # bitwise and operators\n",
        "print(2 | 3) # bitwise or operator\n",
        "print(2 ^ 3) # bitwise xor operator\n",
        "print(~3) # bitwise not (its convert o to one and one to 0)\n",
        "print(4 >> 2) # bitwise left operator\n",
        "print(5 << 2) # bitwise right operator\n"
      ]
    },
    {
      "cell_type": "code",
      "execution_count": null,
      "id": "76a96f73-d23e-42e5-a83c-e113bd585b9b",
      "metadata": {
        "id": "76a96f73-d23e-42e5-a83c-e113bd585b9b"
      },
      "outputs": [],
      "source": [
        "# Assignment operator\n",
        "a = 2\n",
        "a += 3 # a = a + 3\n",
        "# a /= 2\n",
        "# a *= 5\n",
        "print(a)"
      ]
    },
    {
      "cell_type": "code",
      "execution_count": null,
      "id": "bb38394d-8d91-462e-9054-e030b3b9bacd",
      "metadata": {
        "id": "bb38394d-8d91-462e-9054-e030b3b9bacd",
        "colab": {
          "base_uri": "https://localhost:8080/"
        },
        "outputId": "332b7378-98fb-40b6-caea-141c55357dad"
      },
      "outputs": [
        {
          "output_type": "stream",
          "name": "stdout",
          "text": [
            "Enter a three digits number678\n",
            "21\n"
          ]
        }
      ],
      "source": [
        "# this program add all unit, one and tens of input\n",
        "number = int(input('Enter a three digits number'))\n",
        "\n",
        "a = number % 10\n",
        "\n",
        "number = number // 10\n",
        "\n",
        "b = number % 10\n",
        "\n",
        "number = number // 10\n",
        "\n",
        "c = number % 10\n",
        "\n",
        "print(a+b+c)"
      ]
    },
    {
      "cell_type": "code",
      "execution_count": null,
      "id": "2e61b227-582d-422c-a3f0-d3d8910a4a0d",
      "metadata": {
        "id": "2e61b227-582d-422c-a3f0-d3d8910a4a0d",
        "colab": {
          "base_uri": "https://localhost:8080/"
        },
        "outputId": "8392a9cf-f64c-45ad-9802-dfd5eb6ca610"
      },
      "outputs": [
        {
          "output_type": "stream",
          "name": "stdout",
          "text": [
            "Enter your emailhaek \n",
            "Enter your password1234\n",
            "Incorrect Email\n",
            "Enter email agianhawks@gmail.com\n",
            "Welcome Finaly\n"
          ]
        }
      ],
      "source": [
        "# if / else usage cases\n",
        "email = input('Enter your email')\n",
        "password = input('Enter your password')\n",
        "\n",
        "if email == 'hawks@gmail.com' and password == '1234':\n",
        "  print('Welcome')\n",
        "elif email == 'hawks@gmail.com' and password != '1234':\n",
        "  print('Incorrect Password')\n",
        "  password = input('Enter passowrd again')\n",
        "  if password == '1234':\n",
        "    print('welcome Finaly')\n",
        "  else:\n",
        "    print('Invalid password')\n",
        "elif email != 'hawks@gmail.com' and password == '1234':\n",
        "  print('Incorrect Email')\n",
        "  email = input('Enter email agian')\n",
        "  if email == 'hawks@gmail.com':\n",
        "    print('Welcome Finaly')\n",
        "  else:\n",
        "    print('Invalid Email')\n",
        "else:\n",
        "  print('Not Correct')"
      ]
    },
    {
      "cell_type": "code",
      "execution_count": null,
      "id": "9eb1aaa5-6df8-4f32-9615-c427f32db0eb",
      "metadata": {
        "id": "9eb1aaa5-6df8-4f32-9615-c427f32db0eb",
        "colab": {
          "base_uri": "https://localhost:8080/"
        },
        "outputId": "df444d32-b974-4c6d-8d2a-cb6927ca6886"
      },
      "outputs": [
        {
          "output_type": "stream",
          "name": "stdout",
          "text": [
            "Enter first number888\n",
            "Enter second number23\n",
            "Enter third number780\n",
            "greater number is : 888\n"
          ]
        }
      ],
      "source": [
        "# check greates number among three\n",
        "a = int(input('Enter first number'))\n",
        "b = int(input('Enter second number'))\n",
        "c = int (input('Enter third number'))\n",
        "\n",
        "if a > b and a > c:\n",
        "  print('greater number is :', a)\n",
        "\n",
        "elif b > c and b > a :\n",
        "  print('greater number is :', b)\n",
        "\n",
        "else:\n",
        "  print('greater number is :', c)"
      ]
    },
    {
      "cell_type": "code",
      "source": [
        "# operator selection by user\n",
        "fnum = int(input('Enter first number'))\n",
        "snum = int(input('Enter second number'))\n",
        "op = input('Enter an operator')\n",
        "\n",
        "if op == '+':\n",
        "  print(fnum + snum)\n",
        "\n",
        "elif op == '-':\n",
        "  print(fnum - snum)\n",
        "\n",
        "elif op == '*':\n",
        "  print(fnum * snum)\n",
        "\n",
        "else:\n",
        "  print(fnum / snum)"
      ],
      "metadata": {
        "colab": {
          "base_uri": "https://localhost:8080/"
        },
        "id": "N7o8wAnZcWVh",
        "outputId": "ce4e2f6a-7de9-40b4-a951-27b5bb646685"
      },
      "id": "N7o8wAnZcWVh",
      "execution_count": null,
      "outputs": [
        {
          "output_type": "stream",
          "name": "stdout",
          "text": [
            "Enter first number10\n",
            "Enter second number2\n",
            "Enter an operator\n",
            "5.0\n"
          ]
        }
      ]
    },
    {
      "cell_type": "code",
      "source": [
        "# Modules in python ie Math, random,\n",
        "import math\n",
        "#math.factorial(3)\n",
        "math.floor(4.5)\n",
        "math.ceil(4.5)\n",
        "#math.sqrt(16)"
      ],
      "metadata": {
        "colab": {
          "base_uri": "https://localhost:8080/"
        },
        "id": "ZNuLWzy-ibOQ",
        "outputId": "dfdfa538-3b91-4422-8324-260353308d27"
      },
      "id": "ZNuLWzy-ibOQ",
      "execution_count": null,
      "outputs": [
        {
          "output_type": "execute_result",
          "data": {
            "text/plain": [
              "5"
            ]
          },
          "metadata": {},
          "execution_count": 19
        }
      ]
    },
    {
      "cell_type": "code",
      "source": [
        "import keyword\n",
        "print(keyword.kwlist)"
      ],
      "metadata": {
        "colab": {
          "base_uri": "https://localhost:8080/"
        },
        "id": "mNx5vClSm6pB",
        "outputId": "f493bffc-52fa-49a0-96c6-66c15da0354d"
      },
      "id": "mNx5vClSm6pB",
      "execution_count": null,
      "outputs": [
        {
          "output_type": "stream",
          "name": "stdout",
          "text": [
            "['False', 'None', 'True', 'and', 'as', 'assert', 'async', 'await', 'break', 'class', 'continue', 'def', 'del', 'elif', 'else', 'except', 'finally', 'for', 'from', 'global', 'if', 'import', 'in', 'is', 'lambda', 'nonlocal', 'not', 'or', 'pass', 'raise', 'return', 'try', 'while', 'with', 'yield']\n"
          ]
        }
      ]
    },
    {
      "cell_type": "code",
      "source": [
        "import datetime\n",
        "print(datetime.datetime.now())"
      ],
      "metadata": {
        "colab": {
          "base_uri": "https://localhost:8080/"
        },
        "id": "WXoMBN3ynYl3",
        "outputId": "c8fe6d2d-ec57-4371-8352-539b21ecd614"
      },
      "id": "WXoMBN3ynYl3",
      "execution_count": null,
      "outputs": [
        {
          "output_type": "stream",
          "name": "stdout",
          "text": [
            "2025-04-03 21:46:28.721618\n"
          ]
        }
      ]
    },
    {
      "cell_type": "code",
      "source": [
        "help('module')"
      ],
      "metadata": {
        "colab": {
          "base_uri": "https://localhost:8080/"
        },
        "id": "1ZGBOJManqic",
        "outputId": "b67f73e1-d4cc-4210-b4c5-340ea9fd6513"
      },
      "id": "1ZGBOJManqic",
      "execution_count": null,
      "outputs": [
        {
          "output_type": "stream",
          "name": "stdout",
          "text": [
            "No Python documentation found for 'module'.\n",
            "Use help() to get the interactive help utility.\n",
            "Use help(str) for help on the str class.\n",
            "\n"
          ]
        }
      ]
    },
    {
      "cell_type": "markdown",
      "source": [
        "# Loops in Python"
      ],
      "metadata": {
        "id": "dXiyy145oPyh"
      },
      "id": "dXiyy145oPyh"
    },
    {
      "cell_type": "code",
      "source": [
        "number = int(input('Enter a Number'))\n",
        "i = 1\n",
        "while i < 11:\n",
        "  print(number, '*', i , '=', number * i)\n",
        "  i += 1"
      ],
      "metadata": {
        "colab": {
          "base_uri": "https://localhost:8080/"
        },
        "id": "DHmWwBcenyza",
        "outputId": "7ab5536e-e2b0-48cc-fe45-e106ffdf45a0"
      },
      "id": "DHmWwBcenyza",
      "execution_count": null,
      "outputs": [
        {
          "output_type": "stream",
          "name": "stdout",
          "text": [
            "Enter a Number11\n",
            "11 * 1 = 11\n",
            "11 * 2 = 22\n",
            "11 * 3 = 33\n",
            "11 * 4 = 44\n",
            "11 * 5 = 55\n",
            "11 * 6 = 66\n",
            "11 * 7 = 77\n",
            "11 * 8 = 88\n",
            "11 * 9 = 99\n",
            "11 * 10 = 110\n"
          ]
        }
      ]
    },
    {
      "cell_type": "code",
      "source": [
        "# while loop with else\n",
        "x = 1\n",
        "while x <= 3:\n",
        "  print(x)\n",
        "  x +=1\n",
        "else:\n",
        "  print('Limit crossed')"
      ],
      "metadata": {
        "colab": {
          "base_uri": "https://localhost:8080/"
        },
        "id": "7nyDOVPXzZ_D",
        "outputId": "64a474a1-64b3-4b7b-ab67-4783a20271ac"
      },
      "id": "7nyDOVPXzZ_D",
      "execution_count": null,
      "outputs": [
        {
          "output_type": "stream",
          "name": "stdout",
          "text": [
            "1\n",
            "2\n",
            "3\n",
            "Limit crossed\n"
          ]
        }
      ]
    },
    {
      "cell_type": "code",
      "source": [
        "# Guessing Game\n",
        "import random\n",
        "jackpot = random.randint(1, 100)\n",
        "\n",
        "guess = int(input('Guess a Number'))\n",
        "counter = 1\n",
        "while guess != jackpot:\n",
        "  if guess < jackpot:\n",
        "    print('Guess Higher')\n",
        "  else:\n",
        "    print('Guess Lower')\n",
        "  guess = int(input('Guess a Number'))\n",
        "  counter += 1\n",
        "else:\n",
        "  print('Correct Guess')\n",
        "  print('Attempts : ', counter)"
      ],
      "metadata": {
        "colab": {
          "base_uri": "https://localhost:8080/"
        },
        "id": "43htJ_UNurW4",
        "outputId": "8bffd746-f01e-490a-fa37-8302efdfda5c"
      },
      "id": "43htJ_UNurW4",
      "execution_count": null,
      "outputs": [
        {
          "output_type": "stream",
          "name": "stdout",
          "text": [
            "Guess a Number33\n",
            "Guess Higher\n",
            "Guess a Number66\n",
            "Guess Lower\n",
            "Guess a Number55\n",
            "Guess Lower\n",
            "Guess a Number45\n",
            "Guess Lower\n",
            "Guess a Number41\n",
            "Guess Lower\n",
            "Guess a Number36\n",
            "Guess Lower\n",
            "Guess a Number35\n",
            "Correct Guess\n",
            "Attempts :  7\n"
          ]
        }
      ]
    },
    {
      "cell_type": "code",
      "source": [
        "# for loop in python is very flexible and powerful. It can be applied on range, string, list, dictionary, tuples and sets datatype\n",
        "for i in 'Lahore':\n",
        "  print(i)"
      ],
      "metadata": {
        "colab": {
          "base_uri": "https://localhost:8080/"
        },
        "id": "VrtYa7nXwZMk",
        "outputId": "e257fe0b-22d1-4771-f0b8-a80cb99987f3"
      },
      "id": "VrtYa7nXwZMk",
      "execution_count": null,
      "outputs": [
        {
          "output_type": "stream",
          "name": "stdout",
          "text": [
            "L\n",
            "a\n",
            "h\n",
            "o\n",
            "r\n",
            "e\n"
          ]
        }
      ]
    },
    {
      "cell_type": "code",
      "source": [
        "for x in {1:'ant', 2:'fly', 3:'bug'}:\n",
        "  print(x)"
      ],
      "metadata": {
        "colab": {
          "base_uri": "https://localhost:8080/"
        },
        "id": "XghDpAaA4-KC",
        "outputId": "ba6baf32-0ad4-4d06-a2ce-ca23c1c4ba01"
      },
      "id": "XghDpAaA4-KC",
      "execution_count": null,
      "outputs": [
        {
          "output_type": "stream",
          "name": "stdout",
          "text": [
            "1\n",
            "2\n",
            "3\n"
          ]
        }
      ]
    },
    {
      "cell_type": "code",
      "source": [
        "curr_pop = 10000\n",
        "for i in range(10, 0, -1):\n",
        "  print(i, curr_pop)\n",
        "  curr_pop = curr_pop - 0.1* curr_pop"
      ],
      "metadata": {
        "colab": {
          "base_uri": "https://localhost:8080/"
        },
        "id": "CHPjkUFQ5Ett",
        "outputId": "fda5718c-0c32-4ece-bacd-da4d38e81c9a"
      },
      "id": "CHPjkUFQ5Ett",
      "execution_count": null,
      "outputs": [
        {
          "output_type": "stream",
          "name": "stdout",
          "text": [
            "10 10000\n",
            "9 9000.0\n",
            "8 8100.0\n",
            "7 7290.0\n",
            "6 6561.0\n",
            "5 5904.9\n",
            "4 5314.41\n",
            "3 4782.969\n",
            "2 4304.6721\n",
            "1 3874.20489\n"
          ]
        }
      ]
    },
    {
      "cell_type": "code",
      "source": [],
      "metadata": {
        "id": "MBQa-Ea268LU"
      },
      "id": "MBQa-Ea268LU",
      "execution_count": null,
      "outputs": []
    }
  ],
  "metadata": {
    "kernelspec": {
      "display_name": "Python 3",
      "name": "python3"
    },
    "language_info": {
      "codemirror_mode": {
        "name": "ipython",
        "version": 3
      },
      "file_extension": ".py",
      "mimetype": "text/x-python",
      "name": "python",
      "nbconvert_exporter": "python",
      "pygments_lexer": "ipython3",
      "version": "3.11.5"
    },
    "colab": {
      "provenance": [],
      "gpuType": "T4"
    },
    "accelerator": "GPU"
  },
  "nbformat": 4,
  "nbformat_minor": 5
}