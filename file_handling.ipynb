{
  "cells": [
    {
      "cell_type": "code",
      "execution_count": null,
      "metadata": {
        "colab": {
          "base_uri": "https://localhost:8080/"
        },
        "id": "NgV1qvTrb1rg",
        "outputId": "ec5d4e40-abdd-442f-e84e-aeb3fabfba99"
      },
      "outputs": [
        {
          "name": "stdout",
          "output_type": "stream",
          "text": [
            "Hello World\n"
          ]
        }
      ],
      "source": [
        "# File Handling\n",
        "# create a file/ write/ close a file\n",
        "f = open('sample.txt', 'w')\n",
        "f.write('Hello World')\n",
        "f.close()\n",
        "# read a file\n",
        "f = open('sample.txt', 'r')\n",
        "print(f.read())"
      ]
    },
    {
      "cell_type": "code",
      "execution_count": null,
      "metadata": {
        "id": "PL8KFrV9cHgt"
      },
      "outputs": [],
      "source": [
        "# Writing multiple lines\n",
        "f= open('sample1.txt', 'w')\n",
        "f.write('Hello World\\n')\n",
        "f.write('Hello USA\\n')\n",
        "f.write('Hello World\\n')\n",
        "f.close()"
      ]
    },
    {
      "cell_type": "code",
      "execution_count": null,
      "metadata": {
        "id": "M-dI10fec8sv"
      },
      "outputs": [],
      "source": [
        "# write lines\n",
        "L = ['Hello World\\n', 'How are you\\n', 'perfect']\n",
        "f = open('sample.txt', 'a')\n",
        "f.writelines(L)\n",
        "f.close()\n"
      ]
    },
    {
      "cell_type": "code",
      "execution_count": null,
      "metadata": {
        "colab": {
          "base_uri": "https://localhost:8080/"
        },
        "id": "6YJ1Puq0hC3P",
        "outputId": "c029818a-7b62-4d42-ccb0-de06bd13b0e5"
      },
      "outputs": [
        {
          "name": "stdout",
          "output_type": "stream",
          "text": [
            "Hello WorldHello World\n",
            "How are you\n",
            "perfect\n"
          ]
        }
      ],
      "source": [
        "#read --read all content at once\n",
        "# readline -- reads line by line\n",
        "f = open('sample.txt', 'r')\n",
        "print(f.read())\n",
        "f.close()"
      ]
    },
    {
      "cell_type": "code",
      "execution_count": null,
      "metadata": {
        "colab": {
          "base_uri": "https://localhost:8080/"
        },
        "id": "xnRYyMdziqPY",
        "outputId": "4cffdf7a-b77f-49b9-daf1-11f48ac25d5e"
      },
      "outputs": [
        {
          "name": "stdout",
          "output_type": "stream",
          "text": [
            "['Hello WorldHello World\\n', 'How are you\\n', 'perfect']\n"
          ]
        }
      ],
      "source": [
        "f = open('sample.txt', 'r')\n",
        "print(f.readlines())\n",
        "f.close()"
      ]
    },
    {
      "cell_type": "code",
      "execution_count": null,
      "metadata": {
        "colab": {
          "base_uri": "https://localhost:8080/"
        },
        "id": "YUZDLHwjixED",
        "outputId": "bd38d6c0-f767-4327-ad78-dffd654cfdf7"
      },
      "outputs": [
        {
          "name": "stdout",
          "output_type": "stream",
          "text": [
            "Hello Worl\n",
            "dHello Wor\n"
          ]
        }
      ],
      "source": [
        "# read few characters\n",
        "f = open('sample.txt', 'r')\n",
        "print(f.read(10))\n",
        "print(f.read(10))\n",
        "f.close()"
      ]
    },
    {
      "cell_type": "code",
      "execution_count": null,
      "metadata": {
        "colab": {
          "base_uri": "https://localhost:8080/"
        },
        "id": "PLoHMvJgjNEV",
        "outputId": "7e1e5b84-a208-409e-e08d-8bb20ab3c121"
      },
      "outputs": [
        {
          "name": "stdout",
          "output_type": "stream",
          "text": [
            "Hello WorldHello World\n",
            " How are you\n",
            " perfect "
          ]
        }
      ],
      "source": [
        "# reading entire using readline\n",
        "f = open('/content/sample.txt', 'r')\n",
        "while True:\n",
        "  data = f.readline()\n",
        "  if data == '':\n",
        "    break\n",
        "  else:\n",
        "    print(data, end=' ')\n",
        "f.close()"
      ]
    },
    {
      "cell_type": "markdown",
      "metadata": {
        "id": "skY0BNYropaH"
      },
      "source": []
    },
    {
      "cell_type": "code",
      "execution_count": null,
      "metadata": {
        "id": "mzTUTe6zlekr"
      },
      "outputs": [],
      "source": [
        "Big_L = ['hello world' for i in range(100)]\n",
        "\n",
        "with open('sample2.txt', 'w') as f:\n",
        "  f.writelines(Big_L)"
      ]
    },
    {
      "cell_type": "code",
      "execution_count": null,
      "metadata": {
        "colab": {
          "base_uri": "https://localhost:8080/"
        },
        "id": "RjxZYUa7sBF8",
        "outputId": "ace7a6cd-a8dd-4594-fcf7-818514e6b091"
      },
      "outputs": [
        {
          "name": "stdout",
          "output_type": "stream",
          "text": [
            "dhello wor***orldhello ***o worldhel***ello world***ldhello wo***worldhello***lo worldhe***hello worl***rldhello w*** worldhell***llo worldh***dhello wor***orldhello ***o worldhel***ello world***ldhello wo***worldhello***lo worldhe***hello worl***rldhello w*** worldhell***llo worldh***dhello wor***orldhello ***o worldhel***ello world***ldhello wo***worldhello***lo worldhe***hello worl***rldhello w*** worldhell***llo worldh***dhello wor***orldhello ***o worldhel***ello world***"
          ]
        }
      ],
      "source": [
        "with open('sample2.txt', 'r') as f:\n",
        "  chunk_size = 10\n",
        "  while len(f.read(chunk_size)) > 0:\n",
        "    print(f.read(chunk_size), end='***')\n",
        "    f.read(chunk_size)"
      ]
    },
    {
      "cell_type": "code",
      "execution_count": null,
      "metadata": {
        "colab": {
          "base_uri": "https://localhost:8080/"
        },
        "id": "Z11n65ysraW6",
        "outputId": "ed70dca8-048a-4a50-c58d-e8dadb446117"
      },
      "outputs": [
        {
          "name": "stdout",
          "output_type": "stream",
          "text": [
            "dHello World\n",
            "How are you\n",
            "perfect\n"
          ]
        }
      ],
      "source": [
        "# seek() provide more control from where you want to start\n",
        "# tell() tells you where your buffer/cursor is exactly now is\n",
        "\n",
        "with open('sample.txt', 'r') as f:\n",
        "  f.seek(10)\n",
        "  print(f.read())\n",
        "  f.tell()"
      ]
    },
    {
      "cell_type": "code",
      "execution_count": null,
      "metadata": {
        "colab": {
          "base_uri": "https://localhost:8080/"
        },
        "id": "Ib9OsCJh0tWN",
        "outputId": "56a09fc1-2b67-40fa-8aff-4ce13f613d86"
      },
      "outputs": [
        {
          "name": "stdout",
          "output_type": "stream",
          "text": [
            "1\n"
          ]
        }
      ],
      "source": [
        "# seek behavior  in write mode\n",
        "with open('sample.txt', 'w') as file:\n",
        "  file.write('Hello')\n",
        "  file.tell()\n",
        "  file.seek(0)\n",
        "  print(file.write('X'))"
      ]
    },
    {
      "cell_type": "code",
      "execution_count": 29,
      "metadata": {
        "id": "-b3rexsDraAT"
      },
      "outputs": [],
      "source": [
        "# rb read binary rw write binary are use to work with image (binary file)\n",
        "# how make a copy of file with read and write in binary with rb and rw mode in combinatin\n",
        "with open('/content/vadim.jpg','rb') as f:\n",
        "  with open('vadim.jpb', 'wb') as wf:\n",
        "    wf.write(f.read())"
      ]
    },
    {
      "cell_type": "code",
      "execution_count": 2,
      "metadata": {
        "id": "MpFKBmDd2uBw"
      },
      "outputs": [],
      "source": [
        "# Serialization - Process of converting python datatype to JSON format\n",
        "# Deserialization - Process of convertin JSON to python\n",
        "import json\n",
        "L = [1, 2, 4, 7, 9]\n",
        "\n",
        "with open('demo.json', 'w') as f:\n",
        "  json.dump(L, f)"
      ]
    },
    {
      "cell_type": "code",
      "execution_count": 5,
      "metadata": {
        "id": "--ZdOr4a_ojT"
      },
      "outputs": [],
      "source": [
        "# dictionary in action with json\n",
        "d = {\n",
        "    'name' : 'Haider',\n",
        "    'grade' : 8,\n",
        "    'age' : 13\n",
        "}\n",
        "\n",
        "with open('demo.json', 'w') as f:\n",
        "  json.dump(d, f, indent=4)"
      ]
    },
    {
      "cell_type": "code",
      "execution_count": 6,
      "metadata": {
        "colab": {
          "base_uri": "https://localhost:8080/"
        },
        "id": "zOtKaY54A2-X",
        "outputId": "92512944-1d9b-4351-e428-1e8bfd58747d"
      },
      "outputs": [
        {
          "name": "stdout",
          "output_type": "stream",
          "text": [
            "{'name': 'Haider', 'grade': 8, 'age': 13}\n"
          ]
        }
      ],
      "source": [
        "# deserialization\n",
        "with open('demo.json', 'r') as f:\n",
        "  print(json.load(f))"
      ]
    },
    {
      "cell_type": "code",
      "execution_count": 8,
      "metadata": {
        "id": "hJZk_6BrBFsm"
      },
      "outputs": [],
      "source": [
        "# in JSON if we dump a tuple it will dump and load as list\n",
        "t = (3, 4, 5, 6, 7)\n",
        "with open('demo1.json', 'w') as f:\n",
        "  json.dump(t, f)"
      ]
    },
    {
      "cell_type": "code",
      "execution_count": 11,
      "metadata": {
        "colab": {
          "base_uri": "https://localhost:8080/"
        },
        "id": "QmB0N8n9B7k2",
        "outputId": "9e455d64-1cfa-4615-b0b1-afc7b480cbb7"
      },
      "outputs": [
        {
          "name": "stdout",
          "output_type": "stream",
          "text": [
            "[3, 4, 5, 6, 7]\n",
            "<class 'list'>\n"
          ]
        }
      ],
      "source": [
        "with open('demo1.json', 'r') as f:\n",
        "  p = json.load(f)\n",
        "  print(p)\n",
        "  print(type(p))"
      ]
    },
    {
      "cell_type": "code",
      "execution_count": 13,
      "metadata": {
        "id": "Ax1fhEZgCLCx"
      },
      "outputs": [],
      "source": [
        "# How to use object of own created class in JSON\n",
        "class Student:\n",
        "  def __init__(self, name, age, grade):\n",
        "    self.name = name\n",
        "    self.age = age\n",
        "    self.grade = grade\n",
        "\n",
        "\n",
        "stdent1 = Student('Haider', 13, 8)"
      ]
    },
    {
      "cell_type": "code",
      "execution_count": 16,
      "metadata": {
        "id": "G0MtfXA6DMzw"
      },
      "outputs": [],
      "source": [
        "import json\n",
        "\n",
        "def student_new(student1):\n",
        "  if isinstance(student1, Student):\n",
        "    return \"Our Student {} =>Age{} => Grade {} is Best Student of School\".format(student1.name, student1.age, student1.grade)\n",
        "\n",
        "\n",
        "with open('demo2.json', 'w') as f:\n",
        "  json.dump(stdent1, f, default= student_new)"
      ]
    },
    {
      "cell_type": "code",
      "execution_count": 18,
      "metadata": {
        "id": "EgdX22kFF2kM"
      },
      "outputs": [],
      "source": [
        "# As dictionary\n",
        "import json\n",
        "def student_o(student):\n",
        "  if isinstance(stdent1, Student):\n",
        "    return {'name':stdent1.name, 'age': stdent1.age, 'grade' : stdent1.grade}\n",
        "\n",
        "\n",
        "with open('demo3.json', 'w') as f:\n",
        "  json.dump(stdent1, f, default=student_o, indent=5)"
      ]
    },
    {
      "cell_type": "code",
      "execution_count": 19,
      "metadata": {
        "id": "Si1nd-dQIrU1"
      },
      "outputs": [],
      "source": [
        "## Pickling - is a process whereby Python object hierarchy is converted into a byte stram,\n",
        "# whereas unpickling is the reverse conversion of byte stream (from binary format or byte like object)\n",
        "#is converted pack into object hirearchy"
      ]
    },
    {
      "cell_type": "code",
      "execution_count": 47,
      "metadata": {
        "id": "e8P7U3c7PKyX"
      },
      "outputs": [],
      "source": [
        "class Person:\n",
        "  def __init__(self, name, age):\n",
        "    self.name = name\n",
        "    self.age = age\n",
        "\n",
        "  def display_info(self):  # Define display_info as a method within the Person class\n",
        "    print(\"My name is\"+' '+ self.name + 'and I am '+ str(self.age) +' '+ 'years old')\n",
        "\n",
        "person = Person('Malik', 12)\n",
        "\n",
        "# ... (rest of your code remains the same)"
      ]
    },
    {
      "cell_type": "code",
      "execution_count": 48,
      "metadata": {
        "id": "gVvbzxI6MMAv"
      },
      "outputs": [],
      "source": [
        "import pickle\n",
        "with open('demo4.pkl', 'wb') as f:\n",
        "  pickle.dump(person, f)"
      ]
    },
    {
      "cell_type": "code",
      "execution_count": 49,
      "metadata": {
        "id": "y_F4-qndNIDk"
      },
      "outputs": [],
      "source": [
        "import pickle\n",
        "with open('demo4.pkl', 'rb') as f:\n",
        "   p = pickle.load(f)"
      ]
    },
    {
      "cell_type": "code",
      "execution_count": 50,
      "metadata": {
        "colab": {
          "base_uri": "https://localhost:8080/"
        },
        "id": "dFbXvOgNNlrQ",
        "outputId": "905794d6-7887-4465-b565-becb6e5fe5cd"
      },
      "outputs": [
        {
          "name": "stdout",
          "output_type": "stream",
          "text": [
            "My name is Malikand I am 12 years old\n"
          ]
        }
      ],
      "source": [
        "p.display_info()"
      ]
    },
    {
      "cell_type": "code",
      "execution_count": null,
      "metadata": {
        "id": "7aLjQjw2Oazx"
      },
      "outputs": [],
      "source": [
        "# pickle let the user store data in binary while JSON lets the user data in human readable text format"
      ]
    },
    {
      "cell_type": "code",
      "execution_count": 1,
      "metadata": {},
      "outputs": [],
      "source": [
        "##  Text file: Text file stores information in ASCII or Unicode character \n",
        "# ASCII is a character encoding standard for electronic communication\n",
        "# ASCII :  Amercan Standard Code for Information Interchange\n",
        "# flush() function : python provides flush() function to flush the internal buffer and it is automatically called\n",
        "# when the file is closed\n",
        "# flush() function is used to clear the internal buffer of the file\n",
        "# flush() function is used to clear the internal buffer of the file\n",
        "# Binary file: Binary file store information in binary format ( 0s and 1s)\n",
        "# Pickling and Unpickling: Pickling is a process of converting a python object into a byte stream\n",
        "# Unpickling is a process of converting a byte stream into a python object\n"
      ]
    },
    {
      "cell_type": "code",
      "execution_count": null,
      "metadata": {},
      "outputs": [],
      "source": [
        "import pickle\n",
        "record = []\n",
        "\n",
        "def write():\n",
        "    f = open('sample.pkl', 'wb')\n",
        "while True:\n",
        "    name = input(\"Enter your name: \")\n",
        "    rno = int(input(\"Enter your roll number: \"))\n",
        "    marks = int(input(\"Enter your marks: \"))\n",
        "    data = [name, rno, marks]\n",
        "    record.append(data)\n",
        "    pickle.dump(record, f)\n",
        "    ch = input(\"Do you want to add more records? (y/n): \")\n",
        "    if ch == 'n' or ch == 'N':\n",
        "        break\n",
        "    f.close()"
      ]
    },
    {
      "cell_type": "code",
      "execution_count": null,
      "metadata": {},
      "outputs": [],
      "source": [
        "import pickle\n",
        "def read():\n",
        "    f = open('sample.pkl', 'rb')\n",
        "    s=pickle.load(f)\n",
        "    for i in s:\n",
        "        print(i)\n",
        "\n",
        "    f.close()\n",
        "\n",
        "\n",
        "write()\n",
        "print(\"Data written successfully\")\n",
        "read()\n",
        "print(\"Data read successfully\")"
      ]
    },
    {
      "cell_type": "code",
      "execution_count": null,
      "metadata": {},
      "outputs": [],
      "source": []
    },
    {
      "cell_type": "markdown",
      "metadata": {},
      "source": []
    }
  ],
  "metadata": {
    "accelerator": "TPU",
    "colab": {
      "gpuType": "V28",
      "provenance": []
    },
    "kernelspec": {
      "display_name": "Python 3",
      "name": "python3"
    },
    "language_info": {
      "codemirror_mode": {
        "name": "ipython",
        "version": 3
      },
      "file_extension": ".py",
      "mimetype": "text/x-python",
      "name": "python",
      "nbconvert_exporter": "python",
      "pygments_lexer": "ipython3",
      "version": "3.11.0"
    }
  },
  "nbformat": 4,
  "nbformat_minor": 0
}
