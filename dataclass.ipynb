{
  "nbformat": 4,
  "nbformat_minor": 0,
  "metadata": {
    "colab": {
      "provenance": []
    },
    "kernelspec": {
      "name": "python3",
      "display_name": "Python 3"
    },
    "language_info": {
      "name": "python"
    }
  },
  "cells": [
    {
      "cell_type": "code",
      "execution_count": 1,
      "metadata": {
        "id": "7zjSe5npG6yj"
      },
      "outputs": [],
      "source": [
        "from dataclasses import dataclass"
      ]
    },
    {
      "cell_type": "code",
      "source": [
        "@dataclass\n",
        "class Circle:\n",
        "  radius: float\n",
        "\n",
        "  def area(self):\n",
        "    # return area of circle\n",
        "    return 3.14 * self.radius ** 2\n",
        "\n",
        "  def circumference(self):\n",
        "    # return curcumference of circle\n",
        "    return 2 * 3.14 * self.radius\n",
        "\n",
        "\n",
        "small_circle = Circle(radius = 5)\n",
        "big_circle = Circle(radius = 10)\n",
        "\n",
        "print(small_circle.area())\n",
        "print(big_circle.circumference())"
      ],
      "metadata": {
        "colab": {
          "base_uri": "https://localhost:8080/"
        },
        "id": "S1ehuZ58HH4W",
        "outputId": "83bc67d3-5269-497f-a928-49ebec574584"
      },
      "execution_count": 6,
      "outputs": [
        {
          "output_type": "stream",
          "name": "stdout",
          "text": [
            "78.5\n",
            "62.800000000000004\n"
          ]
        }
      ]
    },
    {
      "cell_type": "code",
      "source": [
        "class Dog:\n",
        "    number_of_dogs = 0  # Class variable to count dogs\n",
        "\n",
        "    def __init__(self, name, breed):\n",
        "        self.name = name\n",
        "        self.breed = breed\n",
        "        Dog.number_of_dogs += 1  # Increment the counter when a new dog is created\n",
        "\n",
        "    def bark(self):\n",
        "        print(\"Woof!\")\n",
        "\n",
        "dog1 = Dog(\"Buddy\", \"Golden Retriever\")\n",
        "dog2 = Dog(\"Lucy\", \"Labrador\")\n",
        "dog3 = Dog(\"Friendlu\", \"Pointer\")\n",
        "\n",
        "print(f\"Total number of dogs: {Dog.number_of_dogs}\")  # Output: Total number of dogs: 2"
      ],
      "metadata": {
        "colab": {
          "base_uri": "https://localhost:8080/"
        },
        "id": "GfaQV7f9IvFi",
        "outputId": "b2721591-048c-4749-e9fb-ebd5efc30ca3"
      },
      "execution_count": 8,
      "outputs": [
        {
          "output_type": "stream",
          "name": "stdout",
          "text": [
            "Total number of dogs: 3\n"
          ]
        }
      ]
    },
    {
      "cell_type": "code",
      "source": [],
      "metadata": {
        "id": "BiwfOBvhgjAE"
      },
      "execution_count": null,
      "outputs": []
    }
  ]
}
